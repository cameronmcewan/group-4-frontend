{
  "cells": [
    {
      "cell_type": "code",
      "execution_count": 1,
      "metadata": {
        "id": "KETxDydreUuI"
      },
      "outputs": [],
      "source": [
        "# Load libraries\n",
        "import numpy as np\n",
        "import pandas as pd\n",
        "import matplotlib.pyplot as plt\n",
        "from pandas import read_csv, set_option\n",
        "from pandas.plotting import scatter_matrix\n",
        "import seaborn as sns\n",
        "from sklearn.preprocessing import StandardScaler\n",
        "\n",
        "#Import Model Packages \n",
        "from sklearn.decomposition import PCA\n",
        "from sklearn.decomposition import TruncatedSVD\n",
        "from numpy.linalg import inv, eig, svd\n",
        "\n",
        "from sklearn.manifold import TSNE\n",
        "from sklearn.decomposition import KernelPCA"
      ]
    },
    {
      "cell_type": "code",
      "execution_count": 2,
      "metadata": {
        "id": "QGOGACnPXQZO"
      },
      "outputs": [],
      "source": [
        "data = pd.read_csv('crypto_data_cleaned.csv' ,index_col=0).dropna()"
      ]
    },
    {
      "cell_type": "code",
      "execution_count": 4,
      "metadata": {
        "id": "_Uud2cThrCk-"
      },
      "outputs": [],
      "source": [
        "# Daily Linear Returns (%)\n",
        "datareturns = data.pct_change(1)\n",
        "\n",
        "#Remove Outliers beyong 3 standard deviation\n",
        "datareturns= datareturns[datareturns.apply(lambda x :(x-x.mean()).abs()<(3*x.std()) ).all(1)]"
      ]
    },
    {
      "cell_type": "code",
      "source": [
        "#Normalizing the data and plotting\n",
        "ndata = (data / data.iloc[0]*100)"
      ],
      "metadata": {
        "id": "H624wd_lNyw0"
      },
      "execution_count": 12,
      "outputs": []
    },
    {
      "cell_type": "code",
      "source": [
        "ndata"
      ],
      "metadata": {
        "id": "1tZMLx_jOheu"
      },
      "execution_count": null,
      "outputs": []
    },
    {
      "cell_type": "code",
      "execution_count": null,
      "metadata": {
        "id": "6IgCtyqDusv2"
      },
      "outputs": [],
      "source": [
        "#ndata=(data-data.min())/(data.max()-data.min())"
      ]
    },
    {
      "cell_type": "code",
      "execution_count": 6,
      "metadata": {
        "id": "u8ZBVSxRu8Vy"
      },
      "outputs": [],
      "source": [
        "datareturns = (datareturns / datareturns.iloc[0]*100)"
      ]
    },
    {
      "cell_type": "code",
      "execution_count": null,
      "metadata": {
        "id": "oBSpfzvIe767"
      },
      "outputs": [],
      "source": [
        "#data = (data_raw - data_raw.mean()) / data_raw.std()"
      ]
    },
    {
      "cell_type": "code",
      "execution_count": null,
      "metadata": {
        "id": "0ZkhBil4uUY8"
      },
      "outputs": [],
      "source": [
        "# from sklearn.preprocessing import StandardScaler\n",
        "\n",
        "# scaler = StandardScaler().fit(datareturns)\n",
        "# ndata = pd.DataFrame(scaler.fit_transform(datareturns),columns = datareturns.columns, index = datareturns.index)"
      ]
    },
    {
      "cell_type": "code",
      "execution_count": null,
      "metadata": {
        "id": "Vh3G7IoQuVfy"
      },
      "outputs": [],
      "source": [
        "# datareturns"
      ]
    },
    {
      "cell_type": "code",
      "execution_count": null,
      "metadata": {
        "id": "asQdHIzDXSfx"
      },
      "outputs": [],
      "source": [
        "# ndata=(data-data.min())/(data.max()-data.min())"
      ]
    },
    {
      "cell_type": "code",
      "execution_count": null,
      "metadata": {
        "id": "k91imT0fnbAP"
      },
      "outputs": [],
      "source": [
        "ndata"
      ]
    },
    {
      "cell_type": "code",
      "execution_count": null,
      "metadata": {
        "id": "ltkJIHKMqpjp"
      },
      "outputs": [],
      "source": [
        "# Visualizing Log Returns for the DJIA \n",
        "#plt.figure(figsize=(16, 5))\n",
        "#plt.title(\"AAPL Return\")\n",
        "#plt.ylabel(\"Return\")\n",
        "plt.figure(figsize=(16, 5))\n",
        "ndata.plot()\n",
        "#plt.grid(True);\n",
        "plt.legend()\n",
        "\n",
        "#plt.show()"
      ]
    },
    {
      "cell_type": "code",
      "execution_count": 13,
      "metadata": {
        "id": "FoxDt_ZWqwkI"
      },
      "outputs": [],
      "source": [
        "# Dividing the dataset into training and testing sets\n",
        "percentage = int(len(ndata) * 0.8)\n",
        "X_train = ndata[:percentage]\n",
        "X_test = ndata[percentage:]\n",
        "\n",
        "X_train_raw = datareturns[:percentage]\n",
        "X_test_raw = datareturns[percentage:]\n",
        "\n",
        "\n",
        "stock_tickers = ndata.columns.values\n",
        "n_tickers = len(stock_tickers)"
      ]
    },
    {
      "cell_type": "code",
      "execution_count": 14,
      "metadata": {
        "id": "fwOBcTQCrKUa"
      },
      "outputs": [],
      "source": [
        "'''PCA !!'''\n",
        "pca = PCA()\n",
        "PrincipalComponent=pca.fit(X_train)"
      ]
    },
    {
      "cell_type": "code",
      "execution_count": 15,
      "metadata": {
        "colab": {
          "base_uri": "https://localhost:8080/"
        },
        "id": "W2webYoyrQQv",
        "outputId": "2e2cea7b-f5ce-45b6-88a4-6c28a4f786ad"
      },
      "outputs": [
        {
          "output_type": "execute_result",
          "data": {
            "text/plain": [
              "array([0.33181064, 0.1321239 , 0.03995499, 0.00718819, 0.07408921,\n",
              "       0.04568045, 0.8305049 , 0.02918776, 0.0287383 , 0.22154839,\n",
              "       0.33142094, 0.03354367, 0.1084255 ])"
            ]
          },
          "metadata": {},
          "execution_count": 15
        }
      ],
      "source": [
        "#FIRST PC / Eigenvector\n",
        "pca.components_[0]"
      ]
    },
    {
      "cell_type": "code",
      "execution_count": 16,
      "metadata": {
        "colab": {
          "base_uri": "https://localhost:8080/"
        },
        "id": "eand-E1IrTg3",
        "outputId": "f3eb4250-684c-4719-ecab-aae121580fbb"
      },
      "outputs": [
        {
          "output_type": "execute_result",
          "data": {
            "text/plain": [
              "13"
            ]
          },
          "metadata": {},
          "execution_count": 16
        }
      ],
      "source": [
        "len(pca.components_)"
      ]
    },
    {
      "cell_type": "code",
      "execution_count": 17,
      "metadata": {
        "colab": {
          "base_uri": "https://localhost:8080/",
          "height": 627
        },
        "id": "0X7LeWsgrWaw",
        "outputId": "27d92726-ae4d-448b-a04e-9d42b0b9d037"
      },
      "outputs": [
        {
          "output_type": "execute_result",
          "data": {
            "text/plain": [
              "<pandas.io.formats.style.Styler at 0x7f5387237690>"
            ],
            "text/html": [
              "<style type=\"text/css\">\n",
              "</style>\n",
              "<table id=\"T_55c22_\" class=\"dataframe\">\n",
              "  <thead>\n",
              "    <tr>\n",
              "      <th class=\"blank level0\" >&nbsp;</th>\n",
              "      <th class=\"col_heading level0 col0\" >Explained Variance</th>\n",
              "    </tr>\n",
              "  </thead>\n",
              "  <tbody>\n",
              "    <tr>\n",
              "      <th id=\"T_55c22_level0_row0\" class=\"row_heading level0 row0\" >0</th>\n",
              "      <td id=\"T_55c22_row0_col0\" class=\"data row0 col0\" >93.32%</td>\n",
              "    </tr>\n",
              "    <tr>\n",
              "      <th id=\"T_55c22_level0_row1\" class=\"row_heading level0 row1\" >1</th>\n",
              "      <td id=\"T_55c22_row1_col0\" class=\"data row1 col0\" >98.37%</td>\n",
              "    </tr>\n",
              "    <tr>\n",
              "      <th id=\"T_55c22_level0_row2\" class=\"row_heading level0 row2\" >2</th>\n",
              "      <td id=\"T_55c22_row2_col0\" class=\"data row2 col0\" >99.23%</td>\n",
              "    </tr>\n",
              "    <tr>\n",
              "      <th id=\"T_55c22_level0_row3\" class=\"row_heading level0 row3\" >3</th>\n",
              "      <td id=\"T_55c22_row3_col0\" class=\"data row3 col0\" >99.72%</td>\n",
              "    </tr>\n",
              "    <tr>\n",
              "      <th id=\"T_55c22_level0_row4\" class=\"row_heading level0 row4\" >4</th>\n",
              "      <td id=\"T_55c22_row4_col0\" class=\"data row4 col0\" >99.87%</td>\n",
              "    </tr>\n",
              "    <tr>\n",
              "      <th id=\"T_55c22_level0_row5\" class=\"row_heading level0 row5\" >5</th>\n",
              "      <td id=\"T_55c22_row5_col0\" class=\"data row5 col0\" >99.93%</td>\n",
              "    </tr>\n",
              "    <tr>\n",
              "      <th id=\"T_55c22_level0_row6\" class=\"row_heading level0 row6\" >6</th>\n",
              "      <td id=\"T_55c22_row6_col0\" class=\"data row6 col0\" >99.97%</td>\n",
              "    </tr>\n",
              "    <tr>\n",
              "      <th id=\"T_55c22_level0_row7\" class=\"row_heading level0 row7\" >7</th>\n",
              "      <td id=\"T_55c22_row7_col0\" class=\"data row7 col0\" >99.98%</td>\n",
              "    </tr>\n",
              "    <tr>\n",
              "      <th id=\"T_55c22_level0_row8\" class=\"row_heading level0 row8\" >8</th>\n",
              "      <td id=\"T_55c22_row8_col0\" class=\"data row8 col0\" >99.99%</td>\n",
              "    </tr>\n",
              "    <tr>\n",
              "      <th id=\"T_55c22_level0_row9\" class=\"row_heading level0 row9\" >9</th>\n",
              "      <td id=\"T_55c22_row9_col0\" class=\"data row9 col0\" >99.99%</td>\n",
              "    </tr>\n",
              "  </tbody>\n",
              "</table>\n"
            ]
          },
          "metadata": {},
          "execution_count": 17
        },
        {
          "output_type": "display_data",
          "data": {
            "text/plain": [
              "<Figure size 1008x288 with 2 Axes>"
            ],
            "image/png": "[encoded data removed]"
          },
          "metadata": {
            "needs_background": "light"
          }
        }
      ],
      "source": [
        "#Explained Variance per EigenVector\n",
        "NumEigenvalues=10\n",
        "fig, axes = plt.subplots(ncols=2, figsize=(14,4))\n",
        "Series1 = pd.Series(pca.explained_variance_ratio_[:NumEigenvalues]).sort_values()*100\n",
        "Series2 = pd.Series(pca.explained_variance_ratio_[:NumEigenvalues]).cumsum()*100\n",
        "Series1.plot.barh(ylim=(0,9), label=\"woohoo\",title='Explained Variance Ratio by Top 10 factors',ax=axes[0]);\n",
        "Series2.plot(ylim=(0,100),xlim=(0,9),ax=axes[1], title='Cumulative Explained Variance by factor');\n",
        "# explained_variance\n",
        "pd.Series(np.cumsum(pca.explained_variance_ratio_)).to_frame('Explained Variance').head(NumEigenvalues).style.format('{:,.2%}'.format)"
      ]
    },
    {
      "cell_type": "code",
      "execution_count": 18,
      "metadata": {
        "colab": {
          "base_uri": "https://localhost:8080/"
        },
        "id": "To3XjKSqriG4",
        "outputId": "1346df5a-f02a-4d82-d68f-be974f82d7de"
      },
      "outputs": [
        {
          "output_type": "stream",
          "name": "stdout",
          "text": [
            "[0.33181064 0.1321239  0.03995499 0.00718819 0.07408921 0.04568045\n",
            " 0.8305049  0.02918776 0.0287383  0.22154839 0.33142094 0.03354367\n",
            " 0.1084255 ]\n"
          ]
        },
        {
          "output_type": "execute_result",
          "data": {
            "text/plain": [
              "array([0.14985463, 0.05967071, 0.01804475, 0.00324638, 0.03346068,\n",
              "       0.02063052, 0.3750784 , 0.01318198, 0.01297899, 0.10005723,\n",
              "       0.14967863, 0.01514922, 0.04896788])"
            ]
          },
          "metadata": {},
          "execution_count": 18
        }
      ],
      "source": [
        "def PCWeights():\n",
        "    '''\n",
        "    Principal Components (PC) weights for each 28 PCs\n",
        "    '''\n",
        "    weights = pd.DataFrame()\n",
        "\n",
        "    for i in range(len(pca.components_)):\n",
        "        weights[\"weights_{}\".format(i)] = pca.components_[i] / sum(pca.components_[i])\n",
        "\n",
        "    weights = weights.values.T\n",
        "    return weights\n",
        "\n",
        "weights=PCWeights()\n",
        "print(pca.components_[0])\n",
        "weights[0]"
      ]
    },
    {
      "cell_type": "code",
      "execution_count": 19,
      "metadata": {
        "colab": {
          "base_uri": "https://localhost:8080/",
          "height": 1000
        },
        "id": "Nw3dNTbhrjid",
        "outputId": "151bca62-c57d-47cf-b943-1e5574bf5ada"
      },
      "outputs": [
        {
          "output_type": "stream",
          "name": "stdout",
          "text": [
            "   _ADAUSDT_  _BTCUSDT_  _TRXUSDT_  _EOSUSDT_  _NEOUSDT_  _XLMUSDT_  \\\n",
            "0   0.331811   0.132124   0.039955   0.007188   0.074089   0.045680   \n",
            "1   0.547985  -0.017885   0.038313   0.021863   0.041002   0.002981   \n",
            "2  -0.600324  -0.083632   0.119205   0.050055   0.220681   0.014895   \n",
            "3  -0.251772  -0.481568  -0.017887   0.025503   0.073659  -0.070694   \n",
            "4  -0.363958   0.571335   0.023983   0.056306   0.018633   0.134727   \n",
            "\n",
            "   _LINKUSDT_  _ZECUSDT_  _XRPUSDT_  _ETHUSDT_  _BNBUSDT_  _LTCUSDT_  \\\n",
            "0    0.830505   0.029188   0.028738   0.221548   0.331421   0.033544   \n",
            "1   -0.531630   0.010868   0.040855   0.236877   0.512331   0.013020   \n",
            "2   -0.006040   0.080995   0.091606  -0.204239   0.711052   0.056463   \n",
            "3    0.102887   0.009808   0.030740   0.182694  -0.195122  -0.045088   \n",
            "4   -0.119502   0.046357   0.017673   0.656145  -0.090040   0.232898   \n",
            "\n",
            "   _ETCUSDT_  \n",
            "0   0.108425  \n",
            "1   0.304263  \n",
            "2  -0.038666  \n",
            "3   0.779871  \n",
            "4   0.096173  \n",
            "   _ADAUSDT_  _BTCUSDT_  _TRXUSDT_  _EOSUSDT_  _NEOUSDT_  _XLMUSDT_  \\\n",
            "0   0.149855   0.059671   0.018045   0.003246   0.033461   0.020631   \n",
            "1   0.448858  -0.014650   0.031382   0.017908   0.033585   0.002441   \n",
            "2  -1.456920  -0.202967   0.289296   0.121478   0.535567   0.036149   \n",
            "3  -1.760286  -3.366921  -0.125057   0.178307   0.514991  -0.494263   \n",
            "4  -0.284180   0.446101   0.018726   0.043964   0.014549   0.105195   \n",
            "\n",
            "   _LINKUSDT_  _ZECUSDT_  _XRPUSDT_  _ETHUSDT_  _BNBUSDT_  _LTCUSDT_  \\\n",
            "0    0.375078   0.013182   0.012979   0.100057   0.149679   0.015149   \n",
            "1   -0.435461   0.008902   0.033464   0.194027   0.419653   0.010665   \n",
            "2   -0.014658   0.196567   0.222317  -0.495665   1.725643   0.137030   \n",
            "3    0.719339   0.068571   0.214924   1.277315  -1.364212  -0.315236   \n",
            "4   -0.093308   0.036196   0.013799   0.512321  -0.070304   0.181848   \n",
            "\n",
            "   _ETCUSDT_  \n",
            "0   0.048968  \n",
            "1   0.249224  \n",
            "2  -0.093837  \n",
            "3   5.452528  \n",
            "4   0.075093  \n"
          ]
        },
        {
          "output_type": "execute_result",
          "data": {
            "text/plain": [
              "array([[<matplotlib.axes._subplots.AxesSubplot object at 0x7f5383554210>],\n",
              "       [<matplotlib.axes._subplots.AxesSubplot object at 0x7f53834bfd90>],\n",
              "       [<matplotlib.axes._subplots.AxesSubplot object at 0x7f5383512a10>],\n",
              "       [<matplotlib.axes._subplots.AxesSubplot object at 0x7f53834a7e50>],\n",
              "       [<matplotlib.axes._subplots.AxesSubplot object at 0x7f538345fed0>]],\n",
              "      dtype=object)"
            ]
          },
          "metadata": {},
          "execution_count": 19
        },
        {
          "output_type": "display_data",
          "data": {
            "text/plain": [
              "<Figure size 1008x720 with 5 Axes>"
            ],
            "image/png": "[encoded data removed]"
          },
          "metadata": {
            "needs_background": "light"
          }
        }
      ],
      "source": [
        "NumComponents=5\n",
        "        \n",
        "topPortfolios = pd.DataFrame(pca.components_[:NumComponents], columns=data.columns)\n",
        "print(topPortfolios.head(5))\n",
        "#Divide obs by the SUM of ROW (so... make each row sum to 1.0)\n",
        "eigen_portfolios = topPortfolios.div(topPortfolios.sum(1), axis=0)\n",
        "\n",
        "print(eigen_portfolios.head(5))\n",
        "eigen_portfolios.index = [f'Portfolio {i}' for i in range( NumComponents)]\n",
        "np.sqrt(pca.explained_variance_)\n",
        "eigen_portfolios.T.plot.bar(subplots=True, layout=(int(NumComponents),1), figsize=(14,10), legend=False, sharey=True, ylim= (-1,1))"
      ]
    },
    {
      "cell_type": "code",
      "execution_count": 20,
      "metadata": {
        "colab": {
          "base_uri": "https://localhost:8080/",
          "height": 333
        },
        "id": "ud3ocg4krv6l",
        "outputId": "0b402303-c983-4fb7-d057-bc5a2fa47359"
      },
      "outputs": [
        {
          "output_type": "execute_result",
          "data": {
            "text/plain": [
              "<matplotlib.axes._subplots.AxesSubplot at 0x7f53831fc490>"
            ]
          },
          "metadata": {},
          "execution_count": 20
        },
        {
          "output_type": "display_data",
          "data": {
            "text/plain": [
              "<Figure size 432x288 with 2 Axes>"
            ],
            "image/png": "[encoded data removed]"
          },
          "metadata": {
            "needs_background": "light"
          }
        }
      ],
      "source": [
        "# plotting heatmap \n",
        "sns.heatmap(topPortfolios)"
      ]
    },
    {
      "cell_type": "code",
      "execution_count": 21,
      "metadata": {
        "id": "WyjXLiHor1mn"
      },
      "outputs": [],
      "source": [
        "# Sharpe Ratio\n",
        "def sharpe_ratio(ts_returns, periods_per_year=252):\n",
        "    '''\n",
        "    Sharpe ratio is the average return earned in excess of the risk-free rate per unit of volatility or total risk.\n",
        "    It calculares the annualized return, annualized volatility, and annualized sharpe ratio.\n",
        "    \n",
        "    ts_returns are  returns of a signle eigen portfolio.\n",
        "    '''\n",
        "    n_years = ts_returns.shape[0]/periods_per_year\n",
        "    annualized_return = np.power(np.prod(1+ts_returns),(1/n_years))-1\n",
        "    annualized_vol = ts_returns.std() * np.sqrt(periods_per_year)\n",
        "    annualized_sharpe = annualized_return / annualized_vol\n",
        "\n",
        "    return annualized_return, annualized_vol, annualized_sharpe"
      ]
    },
    {
      "cell_type": "code",
      "execution_count": 22,
      "metadata": {
        "colab": {
          "base_uri": "https://localhost:8080/",
          "height": 587
        },
        "id": "28ApC8fyr4yt",
        "outputId": "74e4ce92-04fb-489e-928b-193a3b7e34a1"
      },
      "outputs": [
        {
          "output_type": "stream",
          "name": "stdout",
          "text": [
            "Eigen portfolio #0 with the highest Sharpe. Return inf%, vol = 1816325.56%, Sharpe = 179769313486231570814527423731704356798070567525844996598917476803157260780028538760589558632766878171540458953514382464234321326889464182768467546703537516986049910576551282076245490090389328944075868508455133942304583236903222948165808559332123348274797826204144723168738177180919299881250404026184124858368.00\n",
            "    Return           Vol         Sharpe\n",
            "0      inf  1.816326e+04  1.797693e+308\n",
            "1      inf  1.274237e+04  1.797693e+308\n",
            "2      inf  4.746729e+04  1.797693e+308\n",
            "3      inf  2.505920e+05  1.797693e+308\n",
            "4      inf  1.937330e+04  1.797693e+308\n",
            "5      inf  4.102663e+04  1.797693e+308\n",
            "6      inf  1.241109e+05  1.797693e+308\n",
            "7      inf  2.150029e+05  1.797693e+308\n",
            "8      inf  1.056424e+05  1.797693e+308\n",
            "9      inf  1.602870e+06  1.797693e+308\n",
            "10     inf  5.371212e+04  1.797693e+308\n",
            "11     inf  7.007864e+05  1.797693e+308\n",
            "12     inf  3.649268e+04  1.797693e+308\n"
          ]
        },
        {
          "output_type": "display_data",
          "data": {
            "text/plain": [
              "<Figure size 864x288 with 1 Axes>"
            ],
            "image/png": "[encoded data removed]"
          },
          "metadata": {
            "needs_background": "light"
          }
        }
      ],
      "source": [
        "def optimizedPortfolio():\n",
        "    #Initialize Arrays for saving values\n",
        "    n_portfolios = len(pca.components_)\n",
        "    annualized_ret = np.array([0.] * n_portfolios)\n",
        "    sharpe_metric = np.array([0.] * n_portfolios)\n",
        "    annualized_vol = np.array([0.] * n_portfolios)\n",
        "    highest_sharpe = 0 \n",
        "    stock_tickers = ndata.columns.values\n",
        "    n_tickers = len(stock_tickers)\n",
        "    pcs = pca.components_\n",
        "    \n",
        "    for i in range(n_portfolios):\n",
        "        pc_w = pcs[i] / sum(pcs[i])\n",
        "        #print(pc_w,pc_w.squeeze() * 100)\n",
        "        eigen_prtfi = pd.DataFrame(data ={'weights': pc_w.squeeze()*100}, index = stock_tickers)\n",
        "        eigen_prtfi.sort_values(by=['weights'], ascending=False, inplace=True)\n",
        "        eigen_prti_returns = np.dot(X_train_raw.loc[:, eigen_prtfi.index], pc_w)\n",
        "        eigen_prti_returns = pd.Series(eigen_prti_returns.squeeze(), index=X_train_raw.index)\n",
        "        er, vol, sharpe = sharpe_ratio(eigen_prti_returns)\n",
        "        annualized_ret[i] = er\n",
        "        annualized_vol[i] = vol\n",
        "        sharpe_metric[i] = sharpe\n",
        "        \n",
        "        sharpe_metric= np.nan_to_num(sharpe_metric)\n",
        "        \n",
        "    # find portfolio with the highest Sharpe ratio\n",
        "    highest_sharpe = np.argmax(sharpe_metric)\n",
        "    \n",
        "    print('Eigen portfolio #%d with the highest Sharpe. Return %.2f%%, vol = %.2f%%, Sharpe = %.2f' % \n",
        "          (highest_sharpe,\n",
        "           annualized_ret[highest_sharpe]*100, \n",
        "           annualized_vol[highest_sharpe]*100, \n",
        "           sharpe_metric[highest_sharpe]))\n",
        "    \n",
        "    fig, ax = plt.subplots()\n",
        "    fig.set_size_inches(12, 4)\n",
        "    ax.plot(sharpe_metric, linewidth=3)\n",
        "    ax.set_title('Sharpe ratio of eigen-portfolios')\n",
        "    ax.set_ylabel('Sharpe ratio')\n",
        "    ax.set_xlabel('Portfolios')\n",
        "\n",
        "    results = pd.DataFrame(data={'Return': annualized_ret, 'Vol': annualized_vol, 'Sharpe': sharpe_metric})\n",
        "    results.dropna(inplace=True)\n",
        "    results.sort_values(by=['Sharpe'], ascending=False, inplace=True)\n",
        "    print(results.head(20))\n",
        "\n",
        "    plt.show()\n",
        "    \n",
        "optimizedPortfolio()# results not upto mark \n",
        "#top portfolio has unrealstic Sharp ratio and returns "
      ]
    },
    {
      "cell_type": "code",
      "execution_count": null,
      "metadata": {
        "id": "lkdEk2Rtmvtc"
      },
      "outputs": [],
      "source": [
        "#ndata = (data_raw - data_raw.mean()) / data_raw.std()"
      ]
    },
    {
      "cell_type": "code",
      "execution_count": null,
      "metadata": {
        "id": "wBv1P5tZfxiB"
      },
      "outputs": [],
      "source": [
        ""
      ]
    }
  ],
  "metadata": {
    "colab": {
      "collapsed_sections": [],
      "name": "PCA.ipynb",
      "provenance": []
    },
    "kernelspec": {
      "display_name": "Python 3",
      "name": "python3"
    },
    "language_info": {
      "name": "python"
    }
  },
  "nbformat": 4,
  "nbformat_minor": 0
}