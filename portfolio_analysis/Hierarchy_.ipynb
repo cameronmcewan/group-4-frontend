{
  "nbformat": 4,
  "nbformat_minor": 0,
  "metadata": {
    "colab": {
      "name": "Hierarchy .ipynb",
      "provenance": [],
      "collapsed_sections": []
    },
    "kernelspec": {
      "name": "python3",
      "display_name": "Python 3"
    },
    "language_info": {
      "name": "python"
    }
  },
  "cells": [
    {
      "cell_type": "code",
      "execution_count": null,
      "metadata": {
        "id": "PvZHFEXGlxHK"
      },
      "outputs": [],
      "source": [
        "import pkg_resources\n",
        "import pip\n",
        "installedPackages = {pkg.key for pkg in pkg_resources.working_set}\n",
        "if 'cvxopt' not in installedPackages :\n",
        "    !pip install cvxopt==1.2.5"
      ]
    },
    {
      "cell_type": "code",
      "source": [
        "# Load libraries\n",
        "import numpy as np\n",
        "import pandas as pd\n",
        "import matplotlib.pyplot as plt\n",
        "from pandas import read_csv, set_option\n",
        "from pandas.plotting import scatter_matrix\n",
        "import seaborn as sns\n",
        "from sklearn.preprocessing import StandardScaler\n",
        "from datetime import date\n",
        "\n",
        "#Import Model Packages \n",
        "import scipy.cluster.hierarchy as sch\n",
        "from sklearn.cluster import AgglomerativeClustering\n",
        "from scipy.cluster.hierarchy import fcluster\n",
        "from scipy.cluster.hierarchy import dendrogram, linkage, cophenet\n",
        "from sklearn.metrics import adjusted_mutual_info_score\n",
        "from sklearn import cluster, covariance, manifold\n",
        "\n",
        "#Package for optimization of mean variance optimization\n",
        "import cvxopt as opt\n",
        "from cvxopt import blas, solvers"
      ],
      "metadata": {
        "id": "FAv96_RtmGLp"
      },
      "execution_count": null,
      "outputs": []
    },
    {
      "cell_type": "code",
      "source": [
        "# load dataset\n",
        "dataset = read_csv('/content/crypto_data_cleaned.csv',index_col=0)"
      ],
      "metadata": {
        "id": "GuGHgtrwmGIK"
      },
      "execution_count": null,
      "outputs": []
    },
    {
      "cell_type": "code",
      "source": [
        "dataset.shape"
      ],
      "metadata": {
        "colab": {
          "base_uri": "https://localhost:8080/"
        },
        "id": "gxB0YnzjmGFk",
        "outputId": "9c4d81da-c33d-4bbd-87b2-63b25fd49590"
      },
      "execution_count": null,
      "outputs": [
        {
          "output_type": "execute_result",
          "data": {
            "text/plain": [
              "(1106, 13)"
            ]
          },
          "metadata": {},
          "execution_count": 36
        }
      ]
    },
    {
      "cell_type": "code",
      "source": [
        "dataset.head(5)"
      ],
      "metadata": {
        "colab": {
          "base_uri": "https://localhost:8080/",
          "height": 302
        },
        "id": "TPZpLk3mmGBX",
        "outputId": "fb0fb2eb-73ec-4e91-ee6e-74a8b5bfb82a"
      },
      "execution_count": null,
      "outputs": [
        {
          "output_type": "execute_result",
          "data": {
            "text/plain": [
              "            _ADAUSDT_  _BTCUSDT_  _TRXUSDT_  _EOSUSDT_  _NEOUSDT_  _XLMUSDT_  \\\n",
              "Date                                                                           \n",
              "30/03/2022      1.175   47102.00    0.06855      2.843      26.37     0.2302   \n",
              "29/03/2022      1.191   47434.80    0.06936      2.894      26.84     0.2331   \n",
              "28/03/2022      1.170   47122.21    0.06910      2.860      25.33     0.2298   \n",
              "27/03/2022      1.184   46827.76    0.06899      2.670      26.05     0.2297   \n",
              "26/03/2022      1.152   44511.27    0.06632      2.513      24.73     0.2157   \n",
              "\n",
              "            _LINKUSDT_  _ZECUSDT_  _XRPUSDT_  _ETHUSDT_  _BNBUSDT_  _LTCUSDT_  \\\n",
              "Date                                                                            \n",
              "30/03/2022       16.73      191.0     0.8490    3360.22      430.2      128.4   \n",
              "29/03/2022       16.98      196.3     0.8577    3400.51      434.2      130.1   \n",
              "28/03/2022       16.50      192.2     0.8641    3332.92      430.2      127.6   \n",
              "27/03/2022       16.87      210.3     0.8580    3295.65      430.5      129.7   \n",
              "26/03/2022       15.83      204.8     0.8327    3145.00      415.8      124.8   \n",
              "\n",
              "            _ETCUSDT_  \n",
              "Date                   \n",
              "30/03/2022      49.18  \n",
              "29/03/2022      49.28  \n",
              "28/03/2022      47.07  \n",
              "27/03/2022      48.00  \n",
              "26/03/2022      47.18  "
            ],
            "text/html": [
              "\n",
              "  <div id=\"df-9a7de36a-4fcc-4619-97f1-ab675d3d14b8\">\n",
              "    <div class=\"colab-df-container\">\n",
              "      <div>\n",
              "<style scoped>\n",
              "    .dataframe tbody tr th:only-of-type {\n",
              "        vertical-align: middle;\n",
              "    }\n",
              "\n",
              "    .dataframe tbody tr th {\n",
              "        vertical-align: top;\n",
              "    }\n",
              "\n",
              "    .dataframe thead th {\n",
              "        text-align: right;\n",
              "    }\n",
              "</style>\n",
              "<table border=\"1\" class=\"dataframe\">\n",
              "  <thead>\n",
              "    <tr style=\"text-align: right;\">\n",
              "      <th></th>\n",
              "      <th>_ADAUSDT_</th>\n",
              "      <th>_BTCUSDT_</th>\n",
              "      <th>_TRXUSDT_</th>\n",
              "      <th>_EOSUSDT_</th>\n",
              "      <th>_NEOUSDT_</th>\n",
              "      <th>_XLMUSDT_</th>\n",
              "      <th>_LINKUSDT_</th>\n",
              "      <th>_ZECUSDT_</th>\n",
              "      <th>_XRPUSDT_</th>\n",
              "      <th>_ETHUSDT_</th>\n",
              "      <th>_BNBUSDT_</th>\n",
              "      <th>_LTCUSDT_</th>\n",
              "      <th>_ETCUSDT_</th>\n",
              "    </tr>\n",
              "    <tr>\n",
              "      <th>Date</th>\n",
              "      <th></th>\n",
              "      <th></th>\n",
              "      <th></th>\n",
              "      <th></th>\n",
              "      <th></th>\n",
              "      <th></th>\n",
              "      <th></th>\n",
              "      <th></th>\n",
              "      <th></th>\n",
              "      <th></th>\n",
              "      <th></th>\n",
              "      <th></th>\n",
              "      <th></th>\n",
              "    </tr>\n",
              "  </thead>\n",
              "  <tbody>\n",
              "    <tr>\n",
              "      <th>30/03/2022</th>\n",
              "      <td>1.175</td>\n",
              "      <td>47102.00</td>\n",
              "      <td>0.06855</td>\n",
              "      <td>2.843</td>\n",
              "      <td>26.37</td>\n",
              "      <td>0.2302</td>\n",
              "      <td>16.73</td>\n",
              "      <td>191.0</td>\n",
              "      <td>0.8490</td>\n",
              "      <td>3360.22</td>\n",
              "      <td>430.2</td>\n",
              "      <td>128.4</td>\n",
              "      <td>49.18</td>\n",
              "    </tr>\n",
              "    <tr>\n",
              "      <th>29/03/2022</th>\n",
              "      <td>1.191</td>\n",
              "      <td>47434.80</td>\n",
              "      <td>0.06936</td>\n",
              "      <td>2.894</td>\n",
              "      <td>26.84</td>\n",
              "      <td>0.2331</td>\n",
              "      <td>16.98</td>\n",
              "      <td>196.3</td>\n",
              "      <td>0.8577</td>\n",
              "      <td>3400.51</td>\n",
              "      <td>434.2</td>\n",
              "      <td>130.1</td>\n",
              "      <td>49.28</td>\n",
              "    </tr>\n",
              "    <tr>\n",
              "      <th>28/03/2022</th>\n",
              "      <td>1.170</td>\n",
              "      <td>47122.21</td>\n",
              "      <td>0.06910</td>\n",
              "      <td>2.860</td>\n",
              "      <td>25.33</td>\n",
              "      <td>0.2298</td>\n",
              "      <td>16.50</td>\n",
              "      <td>192.2</td>\n",
              "      <td>0.8641</td>\n",
              "      <td>3332.92</td>\n",
              "      <td>430.2</td>\n",
              "      <td>127.6</td>\n",
              "      <td>47.07</td>\n",
              "    </tr>\n",
              "    <tr>\n",
              "      <th>27/03/2022</th>\n",
              "      <td>1.184</td>\n",
              "      <td>46827.76</td>\n",
              "      <td>0.06899</td>\n",
              "      <td>2.670</td>\n",
              "      <td>26.05</td>\n",
              "      <td>0.2297</td>\n",
              "      <td>16.87</td>\n",
              "      <td>210.3</td>\n",
              "      <td>0.8580</td>\n",
              "      <td>3295.65</td>\n",
              "      <td>430.5</td>\n",
              "      <td>129.7</td>\n",
              "      <td>48.00</td>\n",
              "    </tr>\n",
              "    <tr>\n",
              "      <th>26/03/2022</th>\n",
              "      <td>1.152</td>\n",
              "      <td>44511.27</td>\n",
              "      <td>0.06632</td>\n",
              "      <td>2.513</td>\n",
              "      <td>24.73</td>\n",
              "      <td>0.2157</td>\n",
              "      <td>15.83</td>\n",
              "      <td>204.8</td>\n",
              "      <td>0.8327</td>\n",
              "      <td>3145.00</td>\n",
              "      <td>415.8</td>\n",
              "      <td>124.8</td>\n",
              "      <td>47.18</td>\n",
              "    </tr>\n",
              "  </tbody>\n",
              "</table>\n",
              "</div>\n",
              "      <button class=\"colab-df-convert\" onclick=\"convertToInteractive('df-9a7de36a-4fcc-4619-97f1-ab675d3d14b8')\"\n",
              "              title=\"Convert this dataframe to an interactive table.\"\n",
              "              style=\"display:none;\">\n",
              "        \n",
              "  <svg xmlns=\"http://www.w3.org/2000/svg\" height=\"24px\"viewBox=\"0 0 24 24\"\n",
              "       width=\"24px\">\n",
              "    <path d=\"M0 0h24v24H0V0z\" fill=\"none\"/>\n",
              "    <path d=\"M18.56 5.44l.94 2.06.94-2.06 2.06-.94-2.06-.94-.94-2.06-.94 2.06-2.06.94zm-11 1L8.5 8.5l.94-2.06 2.06-.94-2.06-.94L8.5 2.5l-.94 2.06-2.06.94zm10 10l.94 2.06.94-2.06 2.06-.94-2.06-.94-.94-2.06-.94 2.06-2.06.94z\"/><path d=\"M17.41 7.96l-1.37-1.37c-.4-.4-.92-.59-1.43-.59-.52 0-1.04.2-1.43.59L10.3 9.45l-7.72 7.72c-.78.78-.78 2.05 0 2.83L4 21.41c.39.39.9.59 1.41.59.51 0 1.02-.2 1.41-.59l7.78-7.78 2.81-2.81c.8-.78.8-2.07 0-2.86zM5.41 20L4 18.59l7.72-7.72 1.47 1.35L5.41 20z\"/>\n",
              "  </svg>\n",
              "      </button>\n",
              "      \n",
              "  <style>\n",
              "    .colab-df-container {\n",
              "      display:flex;\n",
              "      flex-wrap:wrap;\n",
              "      gap: 12px;\n",
              "    }\n",
              "\n",
              "    .colab-df-convert {\n",
              "      background-color: #E8F0FE;\n",
              "      border: none;\n",
              "      border-radius: 50%;\n",
              "      cursor: pointer;\n",
              "      display: none;\n",
              "      fill: #1967D2;\n",
              "      height: 32px;\n",
              "      padding: 0 0 0 0;\n",
              "      width: 32px;\n",
              "    }\n",
              "\n",
              "    .colab-df-convert:hover {\n",
              "      background-color: #E2EBFA;\n",
              "      box-shadow: 0px 1px 2px rgba(60, 64, 67, 0.3), 0px 1px 3px 1px rgba(60, 64, 67, 0.15);\n",
              "      fill: #174EA6;\n",
              "    }\n",
              "\n",
              "    [theme=dark] .colab-df-convert {\n",
              "      background-color: #3B4455;\n",
              "      fill: #D2E3FC;\n",
              "    }\n",
              "\n",
              "    [theme=dark] .colab-df-convert:hover {\n",
              "      background-color: #434B5C;\n",
              "      box-shadow: 0px 1px 3px 1px rgba(0, 0, 0, 0.15);\n",
              "      filter: drop-shadow(0px 1px 2px rgba(0, 0, 0, 0.3));\n",
              "      fill: #FFFFFF;\n",
              "    }\n",
              "  </style>\n",
              "\n",
              "      <script>\n",
              "        const buttonEl =\n",
              "          document.querySelector('#df-9a7de36a-4fcc-4619-97f1-ab675d3d14b8 button.colab-df-convert');\n",
              "        buttonEl.style.display =\n",
              "          google.colab.kernel.accessAllowed ? 'block' : 'none';\n",
              "\n",
              "        async function convertToInteractive(key) {\n",
              "          const element = document.querySelector('#df-9a7de36a-4fcc-4619-97f1-ab675d3d14b8');\n",
              "          const dataTable =\n",
              "            await google.colab.kernel.invokeFunction('convertToInteractive',\n",
              "                                                     [key], {});\n",
              "          if (!dataTable) return;\n",
              "\n",
              "          const docLinkHtml = 'Like what you see? Visit the ' +\n",
              "            '<a target=\"_blank\" href=https://colab.research.google.com/notebooks/data_table.ipynb>data table notebook</a>'\n",
              "            + ' to learn more about interactive tables.';\n",
              "          element.innerHTML = '';\n",
              "          dataTable['output_type'] = 'display_data';\n",
              "          await google.colab.output.renderOutput(dataTable, element);\n",
              "          const docLink = document.createElement('div');\n",
              "          docLink.innerHTML = docLinkHtml;\n",
              "          element.appendChild(docLink);\n",
              "        }\n",
              "      </script>\n",
              "    </div>\n",
              "  </div>\n",
              "  "
            ]
          },
          "metadata": {},
          "execution_count": 37
        }
      ]
    },
    {
      "cell_type": "code",
      "source": [
        "print('Null Values =',dataset.isnull().values.any())\n",
        "dataset.shape"
      ],
      "metadata": {
        "colab": {
          "base_uri": "https://localhost:8080/"
        },
        "id": "qhsa6hV1mF2N",
        "outputId": "34c2cdc5-052d-4345-f1fb-33a99cb18692"
      },
      "execution_count": null,
      "outputs": [
        {
          "output_type": "stream",
          "name": "stdout",
          "text": [
            "Null Values = False\n"
          ]
        },
        {
          "output_type": "execute_result",
          "data": {
            "text/plain": [
              "(1106, 13)"
            ]
          },
          "metadata": {},
          "execution_count": 38
        }
      ]
    },
    {
      "cell_type": "code",
      "source": [
        "# Fill the missing values with the last value available in the dataset. \n",
        "dataset=dataset.fillna(method='ffill')\n",
        "dataset.head(2)"
      ],
      "metadata": {
        "colab": {
          "base_uri": "https://localhost:8080/",
          "height": 207
        },
        "id": "B7AQa6mzn-x3",
        "outputId": "44bdb55c-2f8b-4d0c-bb67-8275724cf672"
      },
      "execution_count": null,
      "outputs": [
        {
          "output_type": "execute_result",
          "data": {
            "text/plain": [
              "            _ADAUSDT_  _BTCUSDT_  _TRXUSDT_  _EOSUSDT_  _NEOUSDT_  _XLMUSDT_  \\\n",
              "Date                                                                           \n",
              "30/03/2022      1.175    47102.0    0.06855      2.843      26.37     0.2302   \n",
              "29/03/2022      1.191    47434.8    0.06936      2.894      26.84     0.2331   \n",
              "\n",
              "            _LINKUSDT_  _ZECUSDT_  _XRPUSDT_  _ETHUSDT_  _BNBUSDT_  _LTCUSDT_  \\\n",
              "Date                                                                            \n",
              "30/03/2022       16.73      191.0     0.8490    3360.22      430.2      128.4   \n",
              "29/03/2022       16.98      196.3     0.8577    3400.51      434.2      130.1   \n",
              "\n",
              "            _ETCUSDT_  \n",
              "Date                   \n",
              "30/03/2022      49.18  \n",
              "29/03/2022      49.28  "
            ],
            "text/html": [
              "\n",
              "  <div id=\"df-9a349ea7-e2a2-4cf5-9c19-9b0e67ba963a\">\n",
              "    <div class=\"colab-df-container\">\n",
              "      <div>\n",
              "<style scoped>\n",
              "    .dataframe tbody tr th:only-of-type {\n",
              "        vertical-align: middle;\n",
              "    }\n",
              "\n",
              "    .dataframe tbody tr th {\n",
              "        vertical-align: top;\n",
              "    }\n",
              "\n",
              "    .dataframe thead th {\n",
              "        text-align: right;\n",
              "    }\n",
              "</style>\n",
              "<table border=\"1\" class=\"dataframe\">\n",
              "  <thead>\n",
              "    <tr style=\"text-align: right;\">\n",
              "      <th></th>\n",
              "      <th>_ADAUSDT_</th>\n",
              "      <th>_BTCUSDT_</th>\n",
              "      <th>_TRXUSDT_</th>\n",
              "      <th>_EOSUSDT_</th>\n",
              "      <th>_NEOUSDT_</th>\n",
              "      <th>_XLMUSDT_</th>\n",
              "      <th>_LINKUSDT_</th>\n",
              "      <th>_ZECUSDT_</th>\n",
              "      <th>_XRPUSDT_</th>\n",
              "      <th>_ETHUSDT_</th>\n",
              "      <th>_BNBUSDT_</th>\n",
              "      <th>_LTCUSDT_</th>\n",
              "      <th>_ETCUSDT_</th>\n",
              "    </tr>\n",
              "    <tr>\n",
              "      <th>Date</th>\n",
              "      <th></th>\n",
              "      <th></th>\n",
              "      <th></th>\n",
              "      <th></th>\n",
              "      <th></th>\n",
              "      <th></th>\n",
              "      <th></th>\n",
              "      <th></th>\n",
              "      <th></th>\n",
              "      <th></th>\n",
              "      <th></th>\n",
              "      <th></th>\n",
              "      <th></th>\n",
              "    </tr>\n",
              "  </thead>\n",
              "  <tbody>\n",
              "    <tr>\n",
              "      <th>30/03/2022</th>\n",
              "      <td>1.175</td>\n",
              "      <td>47102.0</td>\n",
              "      <td>0.06855</td>\n",
              "      <td>2.843</td>\n",
              "      <td>26.37</td>\n",
              "      <td>0.2302</td>\n",
              "      <td>16.73</td>\n",
              "      <td>191.0</td>\n",
              "      <td>0.8490</td>\n",
              "      <td>3360.22</td>\n",
              "      <td>430.2</td>\n",
              "      <td>128.4</td>\n",
              "      <td>49.18</td>\n",
              "    </tr>\n",
              "    <tr>\n",
              "      <th>29/03/2022</th>\n",
              "      <td>1.191</td>\n",
              "      <td>47434.8</td>\n",
              "      <td>0.06936</td>\n",
              "      <td>2.894</td>\n",
              "      <td>26.84</td>\n",
              "      <td>0.2331</td>\n",
              "      <td>16.98</td>\n",
              "      <td>196.3</td>\n",
              "      <td>0.8577</td>\n",
              "      <td>3400.51</td>\n",
              "      <td>434.2</td>\n",
              "      <td>130.1</td>\n",
              "      <td>49.28</td>\n",
              "    </tr>\n",
              "  </tbody>\n",
              "</table>\n",
              "</div>\n",
              "      <button class=\"colab-df-convert\" onclick=\"convertToInteractive('df-9a349ea7-e2a2-4cf5-9c19-9b0e67ba963a')\"\n",
              "              title=\"Convert this dataframe to an interactive table.\"\n",
              "              style=\"display:none;\">\n",
              "        \n",
              "  <svg xmlns=\"http://www.w3.org/2000/svg\" height=\"24px\"viewBox=\"0 0 24 24\"\n",
              "       width=\"24px\">\n",
              "    <path d=\"M0 0h24v24H0V0z\" fill=\"none\"/>\n",
              "    <path d=\"M18.56 5.44l.94 2.06.94-2.06 2.06-.94-2.06-.94-.94-2.06-.94 2.06-2.06.94zm-11 1L8.5 8.5l.94-2.06 2.06-.94-2.06-.94L8.5 2.5l-.94 2.06-2.06.94zm10 10l.94 2.06.94-2.06 2.06-.94-2.06-.94-.94-2.06-.94 2.06-2.06.94z\"/><path d=\"M17.41 7.96l-1.37-1.37c-.4-.4-.92-.59-1.43-.59-.52 0-1.04.2-1.43.59L10.3 9.45l-7.72 7.72c-.78.78-.78 2.05 0 2.83L4 21.41c.39.39.9.59 1.41.59.51 0 1.02-.2 1.41-.59l7.78-7.78 2.81-2.81c.8-.78.8-2.07 0-2.86zM5.41 20L4 18.59l7.72-7.72 1.47 1.35L5.41 20z\"/>\n",
              "  </svg>\n",
              "      </button>\n",
              "      \n",
              "  <style>\n",
              "    .colab-df-container {\n",
              "      display:flex;\n",
              "      flex-wrap:wrap;\n",
              "      gap: 12px;\n",
              "    }\n",
              "\n",
              "    .colab-df-convert {\n",
              "      background-color: #E8F0FE;\n",
              "      border: none;\n",
              "      border-radius: 50%;\n",
              "      cursor: pointer;\n",
              "      display: none;\n",
              "      fill: #1967D2;\n",
              "      height: 32px;\n",
              "      padding: 0 0 0 0;\n",
              "      width: 32px;\n",
              "    }\n",
              "\n",
              "    .colab-df-convert:hover {\n",
              "      background-color: #E2EBFA;\n",
              "      box-shadow: 0px 1px 2px rgba(60, 64, 67, 0.3), 0px 1px 3px 1px rgba(60, 64, 67, 0.15);\n",
              "      fill: #174EA6;\n",
              "    }\n",
              "\n",
              "    [theme=dark] .colab-df-convert {\n",
              "      background-color: #3B4455;\n",
              "      fill: #D2E3FC;\n",
              "    }\n",
              "\n",
              "    [theme=dark] .colab-df-convert:hover {\n",
              "      background-color: #434B5C;\n",
              "      box-shadow: 0px 1px 3px 1px rgba(0, 0, 0, 0.15);\n",
              "      filter: drop-shadow(0px 1px 2px rgba(0, 0, 0, 0.3));\n",
              "      fill: #FFFFFF;\n",
              "    }\n",
              "  </style>\n",
              "\n",
              "      <script>\n",
              "        const buttonEl =\n",
              "          document.querySelector('#df-9a349ea7-e2a2-4cf5-9c19-9b0e67ba963a button.colab-df-convert');\n",
              "        buttonEl.style.display =\n",
              "          google.colab.kernel.accessAllowed ? 'block' : 'none';\n",
              "\n",
              "        async function convertToInteractive(key) {\n",
              "          const element = document.querySelector('#df-9a349ea7-e2a2-4cf5-9c19-9b0e67ba963a');\n",
              "          const dataTable =\n",
              "            await google.colab.kernel.invokeFunction('convertToInteractive',\n",
              "                                                     [key], {});\n",
              "          if (!dataTable) return;\n",
              "\n",
              "          const docLinkHtml = 'Like what you see? Visit the ' +\n",
              "            '<a target=\"_blank\" href=https://colab.research.google.com/notebooks/data_table.ipynb>data table notebook</a>'\n",
              "            + ' to learn more about interactive tables.';\n",
              "          element.innerHTML = '';\n",
              "          dataTable['output_type'] = 'display_data';\n",
              "          await google.colab.output.renderOutput(dataTable, element);\n",
              "          const docLink = document.createElement('div');\n",
              "          docLink.innerHTML = docLinkHtml;\n",
              "          element.appendChild(docLink);\n",
              "        }\n",
              "      </script>\n",
              "    </div>\n",
              "  </div>\n",
              "  "
            ]
          },
          "metadata": {},
          "execution_count": 39
        }
      ]
    },
    {
      "cell_type": "code",
      "source": [
        "X= dataset.copy('deep')\n",
        "row= len(X)\n",
        "train_len = int(row*.8)"
      ],
      "metadata": {
        "id": "5QWLrH5tnixL"
      },
      "execution_count": null,
      "outputs": []
    },
    {
      "cell_type": "code",
      "source": [
        "X_train = X.head(train_len)\n",
        "X_test = X.tail(row-train_len)"
      ],
      "metadata": {
        "id": "e6QFRUIkn5sJ"
      },
      "execution_count": null,
      "outputs": []
    },
    {
      "cell_type": "code",
      "source": [
        "#Calculate percentage return for the training data set\n",
        "returns = X_train.pct_change().dropna()"
      ],
      "metadata": {
        "id": "foqTZH4aoIPL"
      },
      "execution_count": null,
      "outputs": []
    },
    {
      "cell_type": "code",
      "source": [
        "#Question: Calculate percentage return for the test data set\n",
        "returns_test=X_test.pct_change().dropna()"
      ],
      "metadata": {
        "id": "RyT1Ls0FoWsu"
      },
      "execution_count": null,
      "outputs": []
    },
    {
      "cell_type": "code",
      "source": [
        "# Question: compute a correlation-distance matrix by an correlation matrix\n",
        "# Hint: you can find this equation in the HRP slides\n",
        "def correlDist(corr):\n",
        "    # A distance matrix based on correlation, where 0<=d[i,j]<=1\n",
        "    # This is a proper distance metric\n",
        "    dist = ((1 - corr) / 2.)**.5  # distance matrix\n",
        "    return dist"
      ],
      "metadata": {
        "id": "D5nCx0JfofSd"
      },
      "execution_count": null,
      "outputs": []
    },
    {
      "cell_type": "code",
      "source": [
        "#Calulate linkage\n",
        "dist = correlDist(returns.corr())\n",
        "link = linkage(dist, 'ward')\n",
        "link[0]"
      ],
      "metadata": {
        "colab": {
          "base_uri": "https://localhost:8080/"
        },
        "id": "xYU4dOidoruH",
        "outputId": "1e48c018-102f-4e98-a741-09b04b812188"
      },
      "execution_count": null,
      "outputs": [
        {
          "output_type": "stream",
          "name": "stderr",
          "text": [
            "/usr/local/lib/python3.7/dist-packages/ipykernel_launcher.py:3: ClusterWarning: scipy.cluster: The symmetric non-negative hollow observation matrix looks suspiciously like an uncondensed distance matrix\n",
            "  This is separate from the ipykernel package so we can avoid doing imports until\n"
          ]
        },
        {
          "output_type": "execute_result",
          "data": {
            "text/plain": [
              "array([ 3.        , 11.        ,  0.38961034,  2.        ])"
            ]
          },
          "metadata": {},
          "execution_count": 47
        }
      ]
    },
    {
      "cell_type": "code",
      "source": [
        "# Question: try different distance measurements, such as complete, average. \n",
        "# More choices can be found: https://docs.scipy.org/doc/scipy/reference/generated/scipy.cluster.hierarchy.linkage.html\n",
        "\n",
        "link_complete = linkage(dist, 'complete')\n",
        "link_average = linkage(dist, 'average')"
      ],
      "metadata": {
        "colab": {
          "base_uri": "https://localhost:8080/"
        },
        "id": "6porf1CZo0nC",
        "outputId": "6b456153-1ffd-4b05-a1ca-57505ad744d1"
      },
      "execution_count": null,
      "outputs": [
        {
          "output_type": "stream",
          "name": "stderr",
          "text": [
            "/usr/local/lib/python3.7/dist-packages/ipykernel_launcher.py:4: ClusterWarning: scipy.cluster: The symmetric non-negative hollow observation matrix looks suspiciously like an uncondensed distance matrix\n",
            "  after removing the cwd from sys.path.\n",
            "/usr/local/lib/python3.7/dist-packages/ipykernel_launcher.py:5: ClusterWarning: scipy.cluster: The symmetric non-negative hollow observation matrix looks suspiciously like an uncondensed distance matrix\n",
            "  \"\"\"\n"
          ]
        }
      ]
    },
    {
      "cell_type": "code",
      "source": [
        "#Plot Dendogram\n",
        "plt.figure(figsize=(20, 7))\n",
        "plt.title(\"Dendrograms\")\n",
        "dendrogram(link,labels = X.columns)\n",
        "plt.show()"
      ],
      "metadata": {
        "colab": {
          "base_uri": "https://localhost:8080/",
          "height": 432
        },
        "id": "C5RI8-7Fo0jg",
        "outputId": "68b91f39-b430-4d78-bbaf-33a8833777d0"
      },
      "execution_count": null,
      "outputs": [
        {
          "output_type": "display_data",
          "data": {
            "text/plain": [
              "<Figure size 1440x504 with 1 Axes>"
            ],
            "image/png": "[encoded data removed]"
          },
          "metadata": {
            "needs_background": "light"
          }
        }
      ]
    },
    {
      "cell_type": "code",
      "source": [
        "def getQuasiDiag(link):\n",
        "    # Sort clustered items by distance\n",
        "    link = link.astype(int)\n",
        "    sortIx = pd.Series([link[-1, 0], link[-1, 1]])\n",
        "    numItems = link[-1, 3]  # number of original items\n",
        "    while sortIx.max() >= numItems:\n",
        "        sortIx.index = range(0, sortIx.shape[0] * 2, 2)  # make space\n",
        "        df0 = sortIx[sortIx >= numItems]  # find clusters\n",
        "        i = df0.index\n",
        "        j = df0.values - numItems\n",
        "        sortIx[i] = link[j, 0]  # item 1\n",
        "        df0 = pd.Series(link[j, 1], index=i + 1)\n",
        "        sortIx = sortIx.append(df0)  # item 2\n",
        "        sortIx = sortIx.sort_index()  # re-sort\n",
        "        sortIx.index = range(sortIx.shape[0])  # re-index\n",
        "    return sortIx.tolist()"
      ],
      "metadata": {
        "id": "WOnm7GEvo0hD"
      },
      "execution_count": null,
      "outputs": []
    },
    {
      "cell_type": "code",
      "source": [
        "def getClusterVar(cov,cItems):\n",
        "    cov_=cov.loc[cItems,cItems] # matrix slice\n",
        "    w_=getIVP(cov_).reshape(-1,1)\n",
        "    \n",
        "    # Question: Compute variance per cluster: you can find this equation in the slides related to the recursive bisection\n",
        "    cVar=np.dot(np.dot(w_.T,cov_),w_)[0,0]\n",
        "    return cVar\n",
        "\n",
        "def getRecBipart(cov, sortIx):\n",
        "    # Compute HRP alloc\n",
        "    w = pd.Series(1, index=sortIx)\n",
        "    cItems = [sortIx]  # initialize all items in one cluster\n",
        "    while len(cItems) > 0:\n",
        "        cItems = [i[j:k] for i in cItems for j, k in ((0, len(i) // 2), (len(i) // 2, len(i))) if len(i) > 1]  # bi-section\n",
        "        for i in range(0, len(cItems), 2):  # parse in pairs\n",
        "            cItems0 = cItems[i]  # cluster 1\n",
        "            cItems1 = cItems[i + 1]  # cluster 2\n",
        "            cVar0 = getClusterVar(cov, cItems0)\n",
        "            cVar1 = getClusterVar(cov, cItems1)\n",
        "            alpha = 1 - cVar0 / (cVar0 + cVar1)\n",
        "            w[cItems0] *= alpha  # weight 1\n",
        "            w[cItems1] *= 1 - alpha  # weight 2\n",
        "    return w"
      ],
      "metadata": {
        "id": "nCcykrA3o0c2"
      },
      "execution_count": null,
      "outputs": []
    },
    {
      "cell_type": "code",
      "source": [
        "# Question: Compute the inverse-variance portfolio: this equation can be found in the slides about recursive bisection\n",
        "def getIVP(cov, **kargs): \n",
        "    ivp = 1. / np.diag(cov)\n",
        "    ivp /= ivp.sum()\n",
        "    return ivp"
      ],
      "metadata": {
        "id": "NPpSlxB5o0Xc"
      },
      "execution_count": null,
      "outputs": []
    },
    {
      "cell_type": "code",
      "source": [
        "def getHRP(cov, corr):\n",
        "    # Construct a hierarchical portfolio\n",
        "    dist = correlDist(corr)\n",
        "    link = sch.linkage(dist, 'single')\n",
        "    sortIx = getQuasiDiag(link)\n",
        "    sortIx = corr.index[sortIx].tolist()\n",
        "    hrp = getRecBipart(cov, sortIx)\n",
        "    return hrp.sort_index()"
      ],
      "metadata": {
        "id": "mLh9efKvoz5c"
      },
      "execution_count": null,
      "outputs": []
    },
    {
      "cell_type": "code",
      "source": [
        "def get_all_portfolios(returns):\n",
        "    \n",
        "    cov, corr = returns.cov(), returns.corr()\n",
        "    hrp = getHRP(cov, corr)\n",
        "    portfolios = pd.DataFrame([hrp], index=['HRP']).T\n",
        "    return portfolios"
      ],
      "metadata": {
        "id": "7FU_dtbKpYIr"
      },
      "execution_count": null,
      "outputs": []
    },
    {
      "cell_type": "code",
      "source": [
        "portfolios = get_all_portfolios(returns)"
      ],
      "metadata": {
        "colab": {
          "base_uri": "https://localhost:8080/"
        },
        "id": "n8NnycL0pYCf",
        "outputId": "e958b6cf-2033-4519-98ac-69b41e73f0db"
      },
      "execution_count": null,
      "outputs": [
        {
          "output_type": "stream",
          "name": "stderr",
          "text": [
            "/usr/local/lib/python3.7/dist-packages/ipykernel_launcher.py:4: ClusterWarning: scipy.cluster: The symmetric non-negative hollow observation matrix looks suspiciously like an uncondensed distance matrix\n",
            "  after removing the cwd from sys.path.\n"
          ]
        }
      ]
    },
    {
      "cell_type": "code",
      "source": [
        "fig, (ax1) = plt.subplots(1, 1,figsize=(30,20))\n",
        "ax1.pie(portfolios.iloc[:,0]);\n",
        "ax1.set_title('HRP',fontsize = 30)"
      ],
      "metadata": {
        "colab": {
          "base_uri": "https://localhost:8080/",
          "height": 1000
        },
        "id": "ZwGzA2clpX_H",
        "outputId": "3f398739-fcf9-4538-81db-9f305f9d9b4f"
      },
      "execution_count": null,
      "outputs": [
        {
          "output_type": "execute_result",
          "data": {
            "text/plain": [
              "Text(0.5, 1.0, 'HRP')"
            ]
          },
          "metadata": {},
          "execution_count": 57
        },
        {
          "output_type": "display_data",
          "data": {
            "text/plain": [
              "<Figure size 2160x1440 with 1 Axes>"
            ],
            "image/png": "[encoded data removed]"
          },
          "metadata": {}
        }
      ]
    },
    {
      "cell_type": "markdown",
      "source": [
        "Back Testing "
      ],
      "metadata": {
        "id": "TWvKqMyNpzy9"
      }
    },
    {
      "cell_type": "code",
      "source": [
        "Insample_Result=pd.DataFrame(np.dot(returns,np.array(portfolios)), \\\n",
        "                             columns=['HRP'], index = returns.index)\n",
        "OutOfSample_Result=pd.DataFrame(np.dot(returns_test,np.array(portfolios)), \\\n",
        "                                columns=['HRP'], index = returns_test.index)"
      ],
      "metadata": {
        "id": "nd7mPXl1pX4D"
      },
      "execution_count": null,
      "outputs": []
    },
    {
      "cell_type": "code",
      "source": [
        "Insample_Result.cumsum().plot(figsize=(10, 5), title =\"In-Sample Results\")\n",
        "OutOfSample_Result.cumsum().plot(figsize=(10, 5), title =\"Out Of Sample Results\")"
      ],
      "metadata": {
        "colab": {
          "base_uri": "https://localhost:8080/",
          "height": 701
        },
        "id": "1mwniUjnp3C6",
        "outputId": "00219d2c-3571-437e-a99e-b362b7ca1c32"
      },
      "execution_count": null,
      "outputs": [
        {
          "output_type": "execute_result",
          "data": {
            "text/plain": [
              "<matplotlib.axes._subplots.AxesSubplot at 0x7f423ac22990>"
            ]
          },
          "metadata": {},
          "execution_count": 59
        },
        {
          "output_type": "display_data",
          "data": {
            "text/plain": [
              "<Figure size 720x360 with 1 Axes>"
            ],
            "image/png": "[encoded data removed]"
          },
          "metadata": {
            "needs_background": "light"
          }
        },
        {
          "output_type": "display_data",
          "data": {
            "text/plain": [
              "<Figure size 720x360 with 1 Axes>"
            ],
            "image/png": "[encoded data removed]"
          },
          "metadata": {
            "needs_background": "light"
          }
        }
      ]
    },
    {
      "cell_type": "code",
      "source": [
        "#In_sample Results\n",
        "stddev = Insample_Result.std() * np.sqrt(252)\n",
        "sharp_ratio = (Insample_Result.mean()*np.sqrt(252))/(Insample_Result).std()\n",
        "Results = pd.DataFrame(dict(stdev=stddev, sharp_ratio = sharp_ratio))\n",
        "Results"
      ],
      "metadata": {
        "colab": {
          "base_uri": "https://localhost:8080/",
          "height": 81
        },
        "id": "i7XlYFN-AE0g",
        "outputId": "5733b781-6dac-4008-ec71-ba7bdfd268d6"
      },
      "execution_count": null,
      "outputs": [
        {
          "output_type": "execute_result",
          "data": {
            "text/plain": [
              "        stdev  sharp_ratio\n",
              "HRP  0.868781    -0.013943"
            ],
            "text/html": [
              "\n",
              "  <div id=\"df-6a56e77d-4f1e-43ed-bad5-1097553c2960\">\n",
              "    <div class=\"colab-df-container\">\n",
              "      <div>\n",
              "<style scoped>\n",
              "    .dataframe tbody tr th:only-of-type {\n",
              "        vertical-align: middle;\n",
              "    }\n",
              "\n",
              "    .dataframe tbody tr th {\n",
              "        vertical-align: top;\n",
              "    }\n",
              "\n",
              "    .dataframe thead th {\n",
              "        text-align: right;\n",
              "    }\n",
              "</style>\n",
              "<table border=\"1\" class=\"dataframe\">\n",
              "  <thead>\n",
              "    <tr style=\"text-align: right;\">\n",
              "      <th></th>\n",
              "      <th>stdev</th>\n",
              "      <th>sharp_ratio</th>\n",
              "    </tr>\n",
              "  </thead>\n",
              "  <tbody>\n",
              "    <tr>\n",
              "      <th>HRP</th>\n",
              "      <td>0.868781</td>\n",
              "      <td>-0.013943</td>\n",
              "    </tr>\n",
              "  </tbody>\n",
              "</table>\n",
              "</div>\n",
              "      <button class=\"colab-df-convert\" onclick=\"convertToInteractive('df-6a56e77d-4f1e-43ed-bad5-1097553c2960')\"\n",
              "              title=\"Convert this dataframe to an interactive table.\"\n",
              "              style=\"display:none;\">\n",
              "        \n",
              "  <svg xmlns=\"http://www.w3.org/2000/svg\" height=\"24px\"viewBox=\"0 0 24 24\"\n",
              "       width=\"24px\">\n",
              "    <path d=\"M0 0h24v24H0V0z\" fill=\"none\"/>\n",
              "    <path d=\"M18.56 5.44l.94 2.06.94-2.06 2.06-.94-2.06-.94-.94-2.06-.94 2.06-2.06.94zm-11 1L8.5 8.5l.94-2.06 2.06-.94-2.06-.94L8.5 2.5l-.94 2.06-2.06.94zm10 10l.94 2.06.94-2.06 2.06-.94-2.06-.94-.94-2.06-.94 2.06-2.06.94z\"/><path d=\"M17.41 7.96l-1.37-1.37c-.4-.4-.92-.59-1.43-.59-.52 0-1.04.2-1.43.59L10.3 9.45l-7.72 7.72c-.78.78-.78 2.05 0 2.83L4 21.41c.39.39.9.59 1.41.59.51 0 1.02-.2 1.41-.59l7.78-7.78 2.81-2.81c.8-.78.8-2.07 0-2.86zM5.41 20L4 18.59l7.72-7.72 1.47 1.35L5.41 20z\"/>\n",
              "  </svg>\n",
              "      </button>\n",
              "      \n",
              "  <style>\n",
              "    .colab-df-container {\n",
              "      display:flex;\n",
              "      flex-wrap:wrap;\n",
              "      gap: 12px;\n",
              "    }\n",
              "\n",
              "    .colab-df-convert {\n",
              "      background-color: #E8F0FE;\n",
              "      border: none;\n",
              "      border-radius: 50%;\n",
              "      cursor: pointer;\n",
              "      display: none;\n",
              "      fill: #1967D2;\n",
              "      height: 32px;\n",
              "      padding: 0 0 0 0;\n",
              "      width: 32px;\n",
              "    }\n",
              "\n",
              "    .colab-df-convert:hover {\n",
              "      background-color: #E2EBFA;\n",
              "      box-shadow: 0px 1px 2px rgba(60, 64, 67, 0.3), 0px 1px 3px 1px rgba(60, 64, 67, 0.15);\n",
              "      fill: #174EA6;\n",
              "    }\n",
              "\n",
              "    [theme=dark] .colab-df-convert {\n",
              "      background-color: #3B4455;\n",
              "      fill: #D2E3FC;\n",
              "    }\n",
              "\n",
              "    [theme=dark] .colab-df-convert:hover {\n",
              "      background-color: #434B5C;\n",
              "      box-shadow: 0px 1px 3px 1px rgba(0, 0, 0, 0.15);\n",
              "      filter: drop-shadow(0px 1px 2px rgba(0, 0, 0, 0.3));\n",
              "      fill: #FFFFFF;\n",
              "    }\n",
              "  </style>\n",
              "\n",
              "      <script>\n",
              "        const buttonEl =\n",
              "          document.querySelector('#df-6a56e77d-4f1e-43ed-bad5-1097553c2960 button.colab-df-convert');\n",
              "        buttonEl.style.display =\n",
              "          google.colab.kernel.accessAllowed ? 'block' : 'none';\n",
              "\n",
              "        async function convertToInteractive(key) {\n",
              "          const element = document.querySelector('#df-6a56e77d-4f1e-43ed-bad5-1097553c2960');\n",
              "          const dataTable =\n",
              "            await google.colab.kernel.invokeFunction('convertToInteractive',\n",
              "                                                     [key], {});\n",
              "          if (!dataTable) return;\n",
              "\n",
              "          const docLinkHtml = 'Like what you see? Visit the ' +\n",
              "            '<a target=\"_blank\" href=https://colab.research.google.com/notebooks/data_table.ipynb>data table notebook</a>'\n",
              "            + ' to learn more about interactive tables.';\n",
              "          element.innerHTML = '';\n",
              "          dataTable['output_type'] = 'display_data';\n",
              "          await google.colab.output.renderOutput(dataTable, element);\n",
              "          const docLink = document.createElement('div');\n",
              "          docLink.innerHTML = docLinkHtml;\n",
              "          element.appendChild(docLink);\n",
              "        }\n",
              "      </script>\n",
              "    </div>\n",
              "  </div>\n",
              "  "
            ]
          },
          "metadata": {},
          "execution_count": 60
        }
      ]
    },
    {
      "cell_type": "code",
      "source": [
        "# Question: Inspired by the above in-sample process, please complete out-of-sample results.\n",
        "\n",
        "stddev_oos = OutOfSample_Result.std() * np.sqrt(252)\n",
        "sharp_ratio_oos = (OutOfSample_Result.mean()*np.sqrt(252))/(OutOfSample_Result).std()\n",
        "Results_oos = pd.DataFrame(dict(stdev_oos=stddev_oos, sharp_ratio_oos = sharp_ratio_oos))\n",
        "Results_oos"
      ],
      "metadata": {
        "colab": {
          "base_uri": "https://localhost:8080/",
          "height": 81
        },
        "id": "tv6QnjuPAEuT",
        "outputId": "185abd5f-d19f-43b8-8e88-a541fceaa0b6"
      },
      "execution_count": null,
      "outputs": [
        {
          "output_type": "execute_result",
          "data": {
            "text/plain": [
              "     stdev_oos  sharp_ratio_oos\n",
              "HRP   0.664735         0.227338"
            ],
            "text/html": [
              "\n",
              "  <div id=\"df-4c610ac9-6318-44cd-8c66-d9bf32bd1c15\">\n",
              "    <div class=\"colab-df-container\">\n",
              "      <div>\n",
              "<style scoped>\n",
              "    .dataframe tbody tr th:only-of-type {\n",
              "        vertical-align: middle;\n",
              "    }\n",
              "\n",
              "    .dataframe tbody tr th {\n",
              "        vertical-align: top;\n",
              "    }\n",
              "\n",
              "    .dataframe thead th {\n",
              "        text-align: right;\n",
              "    }\n",
              "</style>\n",
              "<table border=\"1\" class=\"dataframe\">\n",
              "  <thead>\n",
              "    <tr style=\"text-align: right;\">\n",
              "      <th></th>\n",
              "      <th>stdev_oos</th>\n",
              "      <th>sharp_ratio_oos</th>\n",
              "    </tr>\n",
              "  </thead>\n",
              "  <tbody>\n",
              "    <tr>\n",
              "      <th>HRP</th>\n",
              "      <td>0.664735</td>\n",
              "      <td>0.227338</td>\n",
              "    </tr>\n",
              "  </tbody>\n",
              "</table>\n",
              "</div>\n",
              "      <button class=\"colab-df-convert\" onclick=\"convertToInteractive('df-4c610ac9-6318-44cd-8c66-d9bf32bd1c15')\"\n",
              "              title=\"Convert this dataframe to an interactive table.\"\n",
              "              style=\"display:none;\">\n",
              "        \n",
              "  <svg xmlns=\"http://www.w3.org/2000/svg\" height=\"24px\"viewBox=\"0 0 24 24\"\n",
              "       width=\"24px\">\n",
              "    <path d=\"M0 0h24v24H0V0z\" fill=\"none\"/>\n",
              "    <path d=\"M18.56 5.44l.94 2.06.94-2.06 2.06-.94-2.06-.94-.94-2.06-.94 2.06-2.06.94zm-11 1L8.5 8.5l.94-2.06 2.06-.94-2.06-.94L8.5 2.5l-.94 2.06-2.06.94zm10 10l.94 2.06.94-2.06 2.06-.94-2.06-.94-.94-2.06-.94 2.06-2.06.94z\"/><path d=\"M17.41 7.96l-1.37-1.37c-.4-.4-.92-.59-1.43-.59-.52 0-1.04.2-1.43.59L10.3 9.45l-7.72 7.72c-.78.78-.78 2.05 0 2.83L4 21.41c.39.39.9.59 1.41.59.51 0 1.02-.2 1.41-.59l7.78-7.78 2.81-2.81c.8-.78.8-2.07 0-2.86zM5.41 20L4 18.59l7.72-7.72 1.47 1.35L5.41 20z\"/>\n",
              "  </svg>\n",
              "      </button>\n",
              "      \n",
              "  <style>\n",
              "    .colab-df-container {\n",
              "      display:flex;\n",
              "      flex-wrap:wrap;\n",
              "      gap: 12px;\n",
              "    }\n",
              "\n",
              "    .colab-df-convert {\n",
              "      background-color: #E8F0FE;\n",
              "      border: none;\n",
              "      border-radius: 50%;\n",
              "      cursor: pointer;\n",
              "      display: none;\n",
              "      fill: #1967D2;\n",
              "      height: 32px;\n",
              "      padding: 0 0 0 0;\n",
              "      width: 32px;\n",
              "    }\n",
              "\n",
              "    .colab-df-convert:hover {\n",
              "      background-color: #E2EBFA;\n",
              "      box-shadow: 0px 1px 2px rgba(60, 64, 67, 0.3), 0px 1px 3px 1px rgba(60, 64, 67, 0.15);\n",
              "      fill: #174EA6;\n",
              "    }\n",
              "\n",
              "    [theme=dark] .colab-df-convert {\n",
              "      background-color: #3B4455;\n",
              "      fill: #D2E3FC;\n",
              "    }\n",
              "\n",
              "    [theme=dark] .colab-df-convert:hover {\n",
              "      background-color: #434B5C;\n",
              "      box-shadow: 0px 1px 3px 1px rgba(0, 0, 0, 0.15);\n",
              "      filter: drop-shadow(0px 1px 2px rgba(0, 0, 0, 0.3));\n",
              "      fill: #FFFFFF;\n",
              "    }\n",
              "  </style>\n",
              "\n",
              "      <script>\n",
              "        const buttonEl =\n",
              "          document.querySelector('#df-4c610ac9-6318-44cd-8c66-d9bf32bd1c15 button.colab-df-convert');\n",
              "        buttonEl.style.display =\n",
              "          google.colab.kernel.accessAllowed ? 'block' : 'none';\n",
              "\n",
              "        async function convertToInteractive(key) {\n",
              "          const element = document.querySelector('#df-4c610ac9-6318-44cd-8c66-d9bf32bd1c15');\n",
              "          const dataTable =\n",
              "            await google.colab.kernel.invokeFunction('convertToInteractive',\n",
              "                                                     [key], {});\n",
              "          if (!dataTable) return;\n",
              "\n",
              "          const docLinkHtml = 'Like what you see? Visit the ' +\n",
              "            '<a target=\"_blank\" href=https://colab.research.google.com/notebooks/data_table.ipynb>data table notebook</a>'\n",
              "            + ' to learn more about interactive tables.';\n",
              "          element.innerHTML = '';\n",
              "          dataTable['output_type'] = 'display_data';\n",
              "          await google.colab.output.renderOutput(dataTable, element);\n",
              "          const docLink = document.createElement('div');\n",
              "          docLink.innerHTML = docLinkHtml;\n",
              "          element.appendChild(docLink);\n",
              "        }\n",
              "      </script>\n",
              "    </div>\n",
              "  </div>\n",
              "  "
            ]
          },
          "metadata": {},
          "execution_count": 61
        }
      ]
    },
    {
      "cell_type": "code",
      "source": [
        ""
      ],
      "metadata": {
        "id": "iyAUS1myAWRV"
      },
      "execution_count": null,
      "outputs": []
    },
    {
      "cell_type": "code",
      "source": [
        ""
      ],
      "metadata": {
        "id": "FCZGLXNKAEhU"
      },
      "execution_count": null,
      "outputs": []
    }
  ]
}